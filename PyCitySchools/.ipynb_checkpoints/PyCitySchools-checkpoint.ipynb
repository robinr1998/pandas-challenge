{
 "cells": [
  {
   "cell_type": "code",
   "execution_count": null,
   "id": "d1a7bd4c-5e8c-49fd-bea9-8da0b03e12d7",
   "metadata": {},
   "outputs": [],
   "source": [
    "'This is my Module 4 pandas-challenge homework file'"
   ]
  }
 ],
 "metadata": {
  "kernelspec": {
   "display_name": "Python 3 (ipykernel)",
   "language": "python",
   "name": "python3"
  },
  "language_info": {
   "codemirror_mode": {
    "name": "ipython",
    "version": 3
   },
   "file_extension": ".py",
   "mimetype": "text/x-python",
   "name": "python",
   "nbconvert_exporter": "python",
   "pygments_lexer": "ipython3",
   "version": "3.11.7"
  }
 },
 "nbformat": 4,
 "nbformat_minor": 5
}
